{
 "cells": [
  {
   "cell_type": "markdown",
   "id": "db554735",
   "metadata": {},
   "source": [
    "# Chaining and Retrieval"
   ]
  },
  {
   "cell_type": "code",
   "execution_count": 44,
   "id": "8828cc1f",
   "metadata": {},
   "outputs": [],
   "source": [
    "from langchain_community.document_loaders import PyPDFLoader\n",
    "loader = PyPDFLoader(\"sop.pdf\")\n",
    "docs = loader.load()"
   ]
  },
  {
   "cell_type": "code",
   "execution_count": 45,
   "id": "4041f35f",
   "metadata": {},
   "outputs": [],
   "source": [
    "from langchain.text_splitter import RecursiveCharacterTextSplitter\n",
    "text_splitter = RecursiveCharacterTextSplitter(chunk_size=1000, chunk_overlap=20)\n",
    "documents = text_splitter.split_documents(docs)"
   ]
  },
  {
   "cell_type": "code",
   "execution_count": 46,
   "id": "17c53903",
   "metadata": {},
   "outputs": [],
   "source": [
    "from langchain_community.embeddings import HuggingFaceEmbeddings\n",
    "embeddings = HuggingFaceEmbeddings(model_name=\"sentence-transformers/all-MiniLM-L6-v2\")\n",
    "from langchain.vectorstores import FAISS\n",
    "db = FAISS.from_documents(documents, embeddings)"
   ]
  },
  {
   "cell_type": "code",
   "execution_count": 47,
   "id": "4ae5d9eb",
   "metadata": {},
   "outputs": [],
   "source": [
    "from langchain_community.llms import Ollama\n",
    "# load llama2 model\n",
    "llm=Ollama(model=\"llama2\")"
   ]
  },
  {
   "cell_type": "code",
   "execution_count": 48,
   "id": "4c6a6f35",
   "metadata": {},
   "outputs": [],
   "source": [
    "# Design prompt template\n",
    "from langchain_core.prompts import ChatPromptTemplate\n",
    "prompt = ChatPromptTemplate.from_template(\"\"\"\n",
    "Answer the following question based only on the context provided below.\n",
    "This is a standard operating procedure document. Give precise, to-the-point answers.\n",
    "Give the answer within 100 words (more if required).\n",
    "<context>\n",
    "{context}\n",
    "</context>\n",
    "Question: {input}\"\"\")"
   ]
  },
  {
   "cell_type": "code",
   "execution_count": 49,
   "id": "1e6a223d",
   "metadata": {},
   "outputs": [],
   "source": [
    "# chain introduction\n",
    "# Create document chain\n",
    "\n",
    "from langchain.chains.combine_documents import create_stuff_documents_chain\n",
    "\n",
    "document_chain = create_stuff_documents_chain(llm, prompt)"
   ]
  },
  {
   "cell_type": "code",
   "execution_count": 50,
   "id": "51064e74",
   "metadata": {},
   "outputs": [
    {
     "data": {
      "text/plain": [
       "VectorStoreRetriever(tags=['FAISS', 'HuggingFaceEmbeddings'], vectorstore=<langchain_community.vectorstores.faiss.FAISS object at 0x000001B471FDC090>, search_kwargs={})"
      ]
     },
     "execution_count": 50,
     "metadata": {},
     "output_type": "execute_result"
    }
   ],
   "source": [
    "\"\"\"Retrivers: An interface which connects to the vector db and returns documents given an unstructured query\n",
    "It does not need to be able to store the documents, just return them.\"\"\"\n",
    "\n",
    "retriver = db.as_retriever()\n",
    "retriver"
   ]
  },
  {
   "cell_type": "code",
   "execution_count": 51,
   "id": "47f17518",
   "metadata": {},
   "outputs": [],
   "source": [
    "# Retriever Chain\n",
    "from langchain.chains import create_retrieval_chain\n",
    "retrieval_chain = create_retrieval_chain(retriver, document_chain)"
   ]
  },
  {
   "cell_type": "code",
   "execution_count": 53,
   "id": "d4336f72",
   "metadata": {},
   "outputs": [
    {
     "data": {
      "text/plain": [
       "'This Standard Operating Procedure (SOP) document provides guidelines for the development, implementation, and review of Standard Operating Procedures (SOPs) in commercial aviation. It emphasizes the importance of collaboration among various stakeholders, including flightcrews, managers, check airmen, and instructors, to ensure that SOPs are effective, efficient, and safe. The document also highlights the need for ongoing review and revision of SOPs to adapt to changing circumstances and improve safety culture.'"
      ]
     },
     "execution_count": 53,
     "metadata": {},
     "output_type": "execute_result"
    }
   ],
   "source": [
    "retrieval_chain.invoke({\"input\" : \"What is this SOP about?\"})['answer']"
   ]
  },
  {
   "cell_type": "code",
   "execution_count": null,
   "id": "f44c2e3c",
   "metadata": {},
   "outputs": [],
   "source": []
  }
 ],
 "metadata": {
  "kernelspec": {
   "display_name": "venv",
   "language": "python",
   "name": "python3"
  },
  "language_info": {
   "codemirror_mode": {
    "name": "ipython",
    "version": 3
   },
   "file_extension": ".py",
   "mimetype": "text/x-python",
   "name": "python",
   "nbconvert_exporter": "python",
   "pygments_lexer": "ipython3",
   "version": "3.11.0"
  }
 },
 "nbformat": 4,
 "nbformat_minor": 5
}
