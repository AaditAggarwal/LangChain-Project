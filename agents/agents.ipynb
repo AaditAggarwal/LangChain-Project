{
 "cells": [
  {
   "cell_type": "code",
   "execution_count": 41,
   "id": "5a2f317e",
   "metadata": {},
   "outputs": [],
   "source": [
    "from langchain_community.tools import WikipediaQueryRun\n",
    "from langchain_community.utilities import WikipediaAPIWrapper"
   ]
  },
  {
   "cell_type": "code",
   "execution_count": 42,
   "id": "fe1b66e7",
   "metadata": {},
   "outputs": [],
   "source": [
    "api_wrapper = WikipediaAPIWrapper(top_k_results=1, doc_content_chars_max=200)\n",
    "wiki = WikipediaQueryRun(api_wrapper=api_wrapper)"
   ]
  },
  {
   "cell_type": "code",
   "execution_count": 43,
   "id": "aca8df7f",
   "metadata": {},
   "outputs": [],
   "source": [
    "from langchain_community.document_loaders import WebBaseLoader\n",
    "from langchain_community.vectorstores import FAISS\n",
    "from langchain_community.embeddings import HuggingFaceEmbeddings\n",
    "from langchain_text_splitters import RecursiveCharacterTextSplitter\n",
    "\n",
    "loader = WebBaseLoader(\"https://docs.smith.langchain.com/\")\n",
    "docs = loader.load()\n",
    "documents = RecursiveCharacterTextSplitter(chunk_size = 1000, chunk_overlap = 200).split_documents(docs)\n",
    "embeddings = HuggingFaceEmbeddings(model_name=\"sentence-transformers/all-MiniLM-L6-v2\")\n",
    "\n",
    "vectordb = FAISS.from_documents(documents, embeddings)\n",
    "retriever = vectordb.as_retriever()"
   ]
  },
  {
   "cell_type": "code",
   "execution_count": 44,
   "id": "d906c33e",
   "metadata": {},
   "outputs": [],
   "source": [
    "from langchain.tools.retriever import create_retriever_tool\n",
    "retriever_tool = create_retriever_tool(retriever, \"langsmith_search\", \"Search for information about LangSmith. For any questions about LangSmith, you must use this tool.\")"
   ]
  },
  {
   "cell_type": "code",
   "execution_count": 45,
   "id": "54e629d0",
   "metadata": {},
   "outputs": [],
   "source": [
    "from langchain_community.utilities import ArxivAPIWrapper\n",
    "from langchain_community.tools import ArxivQueryRun\n",
    "\n",
    "arxiv_wrappter = ArxivAPIWrapper(top_k_results=1, doc_content_chars_max=200)\n",
    "arxiv = ArxivQueryRun(api_wrapper=arxiv_wrappter)"
   ]
  },
  {
   "cell_type": "code",
   "execution_count": 46,
   "id": "ddfc0571",
   "metadata": {},
   "outputs": [],
   "source": [
    "tools = [wiki, arxiv, retriever_tool]"
   ]
  },
  {
   "cell_type": "code",
   "execution_count": 47,
   "id": "162a3708",
   "metadata": {},
   "outputs": [],
   "source": [
    "from langchain_community.chat_models import ChatOllama\n",
    "llm = ChatOllama(model=\"llama2:chat\")"
   ]
  },
  {
   "cell_type": "code",
   "execution_count": 48,
   "id": "179aaaf0",
   "metadata": {},
   "outputs": [
    {
     "name": "stderr",
     "output_type": "stream",
     "text": [
      "d:\\AIML\\LangChain-Project\\venv\\Lib\\site-packages\\langsmith\\client.py:272: LangSmithMissingAPIKeyWarning: API key must be provided when using hosted LangSmith API\n",
      "  warnings.warn(\n"
     ]
    }
   ],
   "source": [
    "from langchain import hub\n",
    "prompt = hub.pull(\"hwchase17/openai-functions-agent\")"
   ]
  },
  {
   "cell_type": "code",
   "execution_count": 54,
   "id": "48c4b2a3",
   "metadata": {},
   "outputs": [],
   "source": [
    "# Agents\n",
    "from langchain.agents import create_openai_tools_agent\n",
    "agent = create_openai_tools_agent(llm, tools, prompt)"
   ]
  },
  {
   "cell_type": "code",
   "execution_count": 55,
   "id": "d287e79f",
   "metadata": {},
   "outputs": [],
   "source": [
    "# Agent Executor\n",
    "from langchain.agents import AgentExecutor\n",
    "agent_executor = AgentExecutor(agent=agent, tools=tools, verbose=True)"
   ]
  },
  {
   "cell_type": "code",
   "execution_count": 56,
   "id": "f30fa69e",
   "metadata": {},
   "outputs": [
    {
     "name": "stdout",
     "output_type": "stream",
     "text": [
      "\n",
      "\n",
      "\u001b[1m> Entering new AgentExecutor chain...\u001b[0m\n",
      "\u001b[32;1m\u001b[1;3m\n",
      "LangSmith is a revolutionary AI language model that is designed to assist and help users in various ways. Here are some of its key features:\n",
      "\n",
      "1. Chat Support: LangSmith can act as a chatbot, providing 24/7 support to users through text or voice interactions. It can answer questions, resolve issues, and provide assistance on a wide range of topics.\n",
      "2. Language Translation: LangSmith can translate text from one language to another, allowing users to communicate with people who speak different languages. This feature is particularly useful for businesses looking to expand their reach globally.\n",
      "3. Content Creation: LangSmith can generate high-quality content, such as articles, blog posts, and social media updates, in a matter of minutes. This can save businesses time and resources when it comes to creating content.\n",
      "4. Conversational Analysis: LangSmith can analyze conversations and provide insights on sentiment, tone, and language usage. This feature can be useful for market research and customer service improvement.\n",
      "5. Sentiment Analysis: LangSmith can analyze text data and determine the sentiment behind it, such as positive, negative, or neutral. This feature can be useful for monitoring brand reputation and identifying potential issues.\n",
      "6. Summarization: LangSmith can summarize long pieces of text into shorter, more digestible versions. This feature can be useful for busy professionals who need to stay on top of industry developments without spending hours reading through lengthy documents.\n",
      "7. Writing Assistance: LangSmith can assist users with writing tasks such as proofreading, editing, and suggesting alternative phrases or sentences. This feature can help users improve their writing skills and produce high-quality content.\n",
      "8. Knowledge Management: LangSmith has a vast knowledge base that it can draw upon to answer questions and provide information on a wide range of topics. This feature can be useful for businesses looking to establish themselves as thought leaders in their industry.\n",
      "9. Personalized Recommendations: LangSmith can analyze user data and provide personalized recommendations based on their interests, preferences, and behavior. This feature can be useful for businesses looking to improve their marketing strategies and increase customer engagement.\n",
      "10. Integration with Other Tools: LangSmith can integrate with other tools and platforms, such as CRM software, marketing automation platforms, and project management tools. This feature can help streamline workflows and improve productivity.\n",
      "\n",
      "Overall, LangSmith is a versatile AI language model that can assist users in various ways, from providing chat support to generating high-quality content. Its advanced features make it an ideal tool for businesses looking to improve their operations and stay ahead of the competition.\u001b[0m\n",
      "\n",
      "\u001b[1m> Finished chain.\u001b[0m\n"
     ]
    },
    {
     "data": {
      "text/plain": [
       "{'input': 'Tell me about LangSmith',\n",
       " 'output': '\\nLangSmith is a revolutionary AI language model that is designed to assist and help users in various ways. Here are some of its key features:\\n\\n1. Chat Support: LangSmith can act as a chatbot, providing 24/7 support to users through text or voice interactions. It can answer questions, resolve issues, and provide assistance on a wide range of topics.\\n2. Language Translation: LangSmith can translate text from one language to another, allowing users to communicate with people who speak different languages. This feature is particularly useful for businesses looking to expand their reach globally.\\n3. Content Creation: LangSmith can generate high-quality content, such as articles, blog posts, and social media updates, in a matter of minutes. This can save businesses time and resources when it comes to creating content.\\n4. Conversational Analysis: LangSmith can analyze conversations and provide insights on sentiment, tone, and language usage. This feature can be useful for market research and customer service improvement.\\n5. Sentiment Analysis: LangSmith can analyze text data and determine the sentiment behind it, such as positive, negative, or neutral. This feature can be useful for monitoring brand reputation and identifying potential issues.\\n6. Summarization: LangSmith can summarize long pieces of text into shorter, more digestible versions. This feature can be useful for busy professionals who need to stay on top of industry developments without spending hours reading through lengthy documents.\\n7. Writing Assistance: LangSmith can assist users with writing tasks such as proofreading, editing, and suggesting alternative phrases or sentences. This feature can help users improve their writing skills and produce high-quality content.\\n8. Knowledge Management: LangSmith has a vast knowledge base that it can draw upon to answer questions and provide information on a wide range of topics. This feature can be useful for businesses looking to establish themselves as thought leaders in their industry.\\n9. Personalized Recommendations: LangSmith can analyze user data and provide personalized recommendations based on their interests, preferences, and behavior. This feature can be useful for businesses looking to improve their marketing strategies and increase customer engagement.\\n10. Integration with Other Tools: LangSmith can integrate with other tools and platforms, such as CRM software, marketing automation platforms, and project management tools. This feature can help streamline workflows and improve productivity.\\n\\nOverall, LangSmith is a versatile AI language model that can assist users in various ways, from providing chat support to generating high-quality content. Its advanced features make it an ideal tool for businesses looking to improve their operations and stay ahead of the competition.'}"
      ]
     },
     "execution_count": 56,
     "metadata": {},
     "output_type": "execute_result"
    }
   ],
   "source": [
    "agent_executor.invoke({\"input\":\"Tell me about LangSmith\"})"
   ]
  },
  {
   "cell_type": "code",
   "execution_count": null,
   "id": "16bae67e",
   "metadata": {},
   "outputs": [],
   "source": []
  }
 ],
 "metadata": {
  "kernelspec": {
   "display_name": "venv",
   "language": "python",
   "name": "python3"
  },
  "language_info": {
   "codemirror_mode": {
    "name": "ipython",
    "version": 3
   },
   "file_extension": ".py",
   "mimetype": "text/x-python",
   "name": "python",
   "nbconvert_exporter": "python",
   "pygments_lexer": "ipython3",
   "version": "3.11.0"
  }
 },
 "nbformat": 4,
 "nbformat_minor": 5
}
